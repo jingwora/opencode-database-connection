{
 "cells": [
  {
   "cell_type": "markdown",
   "metadata": {},
   "source": [
    "#  pyodbc"
   ]
  },
  {
   "cell_type": "markdown",
   "metadata": {},
   "source": [
    "Sample code of pyodbc to connect with Microsoft SQL Server Database.\n",
    "\n",
    "SQL Server Management:\n",
    "\n",
    "https://docs.microsoft.com/en-us/sql/sql-server/?view=sql-server-ver15\n",
    "\n",
    "SQL\n",
    "\n",
    "https://www.sqlservertutorial.net/"
   ]
  },
  {
   "cell_type": "code",
   "execution_count": 29,
   "metadata": {},
   "outputs": [],
   "source": [
    "# conda env py36db"
   ]
  },
  {
   "cell_type": "code",
   "execution_count": 1,
   "metadata": {},
   "outputs": [],
   "source": [
    "# !pip install pyodbc"
   ]
  },
  {
   "cell_type": "code",
   "execution_count": 2,
   "metadata": {},
   "outputs": [],
   "source": [
    "import pyodbc\n",
    "import pandas as pd"
   ]
  },
  {
   "cell_type": "code",
   "execution_count": 3,
   "metadata": {},
   "outputs": [],
   "source": [
    "# help(pyodbc)"
   ]
  },
  {
   "cell_type": "code",
   "execution_count": 4,
   "metadata": {},
   "outputs": [
    {
     "name": "stdout",
     "output_type": "stream",
     "text": [
      "SQL Server\n",
      "SQL Server Native Client 11.0\n",
      "ODBC Driver 17 for SQL Server\n",
      "SQL Server Native Client RDA 11.0\n",
      "ODBC Driver 13 for SQL Server\n",
      "PostgreSQL ANSI(x64)\n",
      "PostgreSQL Unicode(x64)\n",
      "Amazon Redshift (x64)\n"
     ]
    }
   ],
   "source": [
    "#  Check drivers\n",
    "for driver in pyodbc.drivers():\n",
    "    print(driver)"
   ]
  },
  {
   "cell_type": "markdown",
   "metadata": {},
   "source": [
    "### Connect to DB"
   ]
  },
  {
   "cell_type": "code",
   "execution_count": 5,
   "metadata": {},
   "outputs": [],
   "source": [
    "#  SQL Server Authentication\n",
    "\n",
    "server = 'DESKTOP-1GHH8VU\\JSQL' \n",
    "database = 'testdb' \n",
    "username = 'sa' \n",
    "password = 'mssqlP@ssw0rd' \n",
    "cnxn = pyodbc.connect('DRIVER={ODBC Driver 17 for SQL Server};'\n",
    "                      'SERVER='+server+';'\n",
    "                      'DATABASE='+database+';'\n",
    "                      'UID='+username+';PWD='+ password)\n",
    "cursor = cnxn.cursor()"
   ]
  },
  {
   "cell_type": "code",
   "execution_count": 6,
   "metadata": {},
   "outputs": [],
   "source": [
    "#  Window Authentication\n",
    "\n",
    "server = 'DESKTOP-1GHH8VU\\JSQL' \n",
    "database = 'testdb'\n",
    "cnxn = pyodbc.connect('Driver={SQL Server};'\n",
    "                      'SERVER='+server+';'\n",
    "                      'DATABASE='+database+';'\n",
    "                      'Trusted_Connection=yes;')\n",
    "\n",
    "cursor = cnxn.cursor()"
   ]
  },
  {
   "cell_type": "markdown",
   "metadata": {},
   "source": [
    "### Check version"
   ]
  },
  {
   "cell_type": "code",
   "execution_count": 7,
   "metadata": {},
   "outputs": [
    {
     "name": "stdout",
     "output_type": "stream",
     "text": [
      "Microsoft SQL Server 2017 (RTM) - 14.0.1000.169 (X64) \n",
      "\tAug 22 2017 17:04:49 \n",
      "\tCopyright (C) 2017 Microsoft Corporation\n",
      "\tDeveloper Edition (64-bit) on Windows 10 Home 10.0 <X64> (Build 18362: )\n",
      "\n"
     ]
    }
   ],
   "source": [
    "cursor.execute(\"SELECT @@version;\") \n",
    "row = cursor.fetchone() \n",
    "while row: \n",
    "    print(row[0])\n",
    "    row = cursor.fetchone()"
   ]
  },
  {
   "cell_type": "markdown",
   "metadata": {},
   "source": [
    "###  Show Database"
   ]
  },
  {
   "cell_type": "code",
   "execution_count": 8,
   "metadata": {},
   "outputs": [
    {
     "name": "stdout",
     "output_type": "stream",
     "text": [
      "Database: master\n",
      "ROWS C:\\Program Files\\Microsoft SQL Server\\MSSQL14.MSSQLSERVER2\\MSSQL\\DATA\\master.mdf\n",
      "LOG C:\\Program Files\\Microsoft SQL Server\\MSSQL14.MSSQLSERVER2\\MSSQL\\DATA\\mastlog.ldf\n",
      "Database: tempdb\n",
      "ROWS C:\\Program Files\\Microsoft SQL Server\\MSSQL14.MSSQLSERVER2\\MSSQL\\DATA\\tempdb.mdf\n",
      "LOG C:\\Program Files\\Microsoft SQL Server\\MSSQL14.MSSQLSERVER2\\MSSQL\\DATA\\templog.ldf\n",
      "ROWS C:\\Program Files\\Microsoft SQL Server\\MSSQL14.MSSQLSERVER2\\MSSQL\\DATA\\tempdb_mssql_2.ndf\n",
      "ROWS C:\\Program Files\\Microsoft SQL Server\\MSSQL14.MSSQLSERVER2\\MSSQL\\DATA\\tempdb_mssql_3.ndf\n",
      "ROWS C:\\Program Files\\Microsoft SQL Server\\MSSQL14.MSSQLSERVER2\\MSSQL\\DATA\\tempdb_mssql_4.ndf\n",
      "ROWS C:\\Program Files\\Microsoft SQL Server\\MSSQL14.MSSQLSERVER2\\MSSQL\\DATA\\tempdb_mssql_5.ndf\n",
      "ROWS C:\\Program Files\\Microsoft SQL Server\\MSSQL14.MSSQLSERVER2\\MSSQL\\DATA\\tempdb_mssql_6.ndf\n",
      "ROWS C:\\Program Files\\Microsoft SQL Server\\MSSQL14.MSSQLSERVER2\\MSSQL\\DATA\\tempdb_mssql_7.ndf\n",
      "ROWS C:\\Program Files\\Microsoft SQL Server\\MSSQL14.MSSQLSERVER2\\MSSQL\\DATA\\tempdb_mssql_8.ndf\n",
      "Database: model\n",
      "ROWS C:\\Program Files\\Microsoft SQL Server\\MSSQL14.MSSQLSERVER2\\MSSQL\\DATA\\model.mdf\n",
      "LOG C:\\Program Files\\Microsoft SQL Server\\MSSQL14.MSSQLSERVER2\\MSSQL\\DATA\\modellog.ldf\n",
      "Database: msdb\n",
      "ROWS C:\\Program Files\\Microsoft SQL Server\\MSSQL14.MSSQLSERVER2\\MSSQL\\DATA\\MSDBData.mdf\n",
      "LOG C:\\Program Files\\Microsoft SQL Server\\MSSQL14.MSSQLSERVER2\\MSSQL\\DATA\\MSDBLog.ldf\n",
      "Database: testdb\n",
      "ROWS C:\\Program Files\\Microsoft SQL Server\\MSSQL14.MSSQLSERVER2\\MSSQL\\DATA\\testdb.mdf\n",
      "LOG C:\\Program Files\\Microsoft SQL Server\\MSSQL14.MSSQLSERVER2\\MSSQL\\DATA\\testdb_log.ldf\n"
     ]
    }
   ],
   "source": [
    "# SQL: 'EXEC sp_databases'\n",
    "\n",
    "cursor = cnxn.cursor()\n",
    "cursor.execute(\"SELECT name from sys.databases\")\n",
    "rows = cursor.fetchall()\n",
    "\n",
    "for row in rows:\n",
    "    sql = (\"select type_desc, physical_name from %s.sys.database_files\" % row.name)\n",
    "    cursor.execute(sql)\n",
    "    l1rows = cursor.fetchall()\n",
    "    print(\"Database: \" + row.name)\n",
    "    for l1row in l1rows:\n",
    "        print(l1row.type_desc + \" \" + l1row.physical_name)"
   ]
  },
  {
   "cell_type": "markdown",
   "metadata": {},
   "source": [
    "###  Create Table"
   ]
  },
  {
   "cell_type": "code",
   "execution_count": 9,
   "metadata": {},
   "outputs": [],
   "source": [
    "cursor.execute('''\n",
    "\n",
    "               IF NOT EXISTS (SELECT * FROM sysobjects WHERE name='customer' and xtype='U')\n",
    "               CREATE TABLE customer\n",
    "               (\n",
    "               Name nvarchar(50),\n",
    "               Age int,\n",
    "               City nvarchar(50),\n",
    "               Date date\n",
    "               )\n",
    "\n",
    "               ''')\n",
    "\n",
    "cnxn.commit()"
   ]
  },
  {
   "cell_type": "markdown",
   "metadata": {},
   "source": [
    "###  Drop Table"
   ]
  },
  {
   "cell_type": "code",
   "execution_count": 10,
   "metadata": {},
   "outputs": [],
   "source": [
    "# cursor.execute(\"DROP TABLE customer\")"
   ]
  },
  {
   "cell_type": "markdown",
   "metadata": {},
   "source": [
    "###  Show all tables\n",
    "columns:\n",
    "1. table_cat: The catalog name.\n",
    "2. table_schem: The schema name.\n",
    "3. table_name: The table name.\n",
    "4. table_type\n",
    "\n",
    "Schema name\n",
    "\n",
    "- dbo\n",
    "- sys\n",
    "- INFORMATION_SCHEMA"
   ]
  },
  {
   "cell_type": "code",
   "execution_count": 11,
   "metadata": {},
   "outputs": [],
   "source": [
    "# cursor = cnxn.cursor()                                                                                                                                  \n",
    "# for row in cursor.tables():\n",
    "#     print(row)"
   ]
  },
  {
   "cell_type": "code",
   "execution_count": 12,
   "metadata": {},
   "outputs": [
    {
     "data": {
      "text/html": [
       "<div>\n",
       "<style scoped>\n",
       "    .dataframe tbody tr th:only-of-type {\n",
       "        vertical-align: middle;\n",
       "    }\n",
       "\n",
       "    .dataframe tbody tr th {\n",
       "        vertical-align: top;\n",
       "    }\n",
       "\n",
       "    .dataframe thead th {\n",
       "        text-align: right;\n",
       "    }\n",
       "</style>\n",
       "<table border=\"1\" class=\"dataframe\">\n",
       "  <thead>\n",
       "    <tr style=\"text-align: right;\">\n",
       "      <th></th>\n",
       "      <th>table_cat</th>\n",
       "      <th>table_schem</th>\n",
       "      <th>table_name</th>\n",
       "      <th>table_type</th>\n",
       "      <th>memo</th>\n",
       "    </tr>\n",
       "  </thead>\n",
       "  <tbody>\n",
       "    <tr>\n",
       "      <th>0</th>\n",
       "      <td>testdb</td>\n",
       "      <td>dbo</td>\n",
       "      <td>customer</td>\n",
       "      <td>TABLE</td>\n",
       "      <td>None</td>\n",
       "    </tr>\n",
       "  </tbody>\n",
       "</table>\n",
       "</div>"
      ],
      "text/plain": [
       "  table_cat table_schem table_name table_type  memo\n",
       "0    testdb         dbo   customer      TABLE  None"
      ]
     },
     "execution_count": 12,
     "metadata": {},
     "output_type": "execute_result"
    }
   ],
   "source": [
    "table_info = cursor.tables()\n",
    "table_info = table_info.fetchall()\n",
    "df = pd.DataFrame(table_info, columns=['table_info'])\n",
    "\n",
    "# Split column\n",
    "df = df['table_info'].astype(str).str.split(expand=True)\n",
    "\n",
    "# All column\n",
    "df.columns =['table_cat','table_schem','table_name','table_type','memo']\n",
    "\n",
    "#  Replace symbol\n",
    "df = df.replace(\"'\", \"\", regex=True)\n",
    "df = df.replace(\"\\(\", \"\", regex=True)\n",
    "df = df.replace(\"\\)\", \"\", regex=True)\n",
    "df = df.replace(\",\", \"\", regex=True)\n",
    "\n",
    "#  Filter only dbo\n",
    "df = df[df['table_schem'].astype(str).str.contains('dbo', na=False)]\n",
    "\n",
    "df"
   ]
  },
  {
   "cell_type": "markdown",
   "metadata": {},
   "source": [
    "###  Show table meta data\n",
    "Columns:\n",
    "1. table_cat\n",
    "2. table_schem\n",
    "3. table_name\n",
    "4. column_name\n",
    "5. data_type\n",
    "6. type_name\n",
    "7. column_size\n",
    "8. buffer_length\n",
    "9. decimal_digits\n",
    "10. num_prec_radix\n",
    "11. nullable\n",
    "12. remarks\n",
    "13. column_def\n",
    "14. sql_data_type\n",
    "15. sql_datetime_sub\n",
    "16. char_octet_length\n",
    "17. ordinal_position"
   ]
  },
  {
   "cell_type": "code",
   "execution_count": 13,
   "metadata": {},
   "outputs": [
    {
     "name": "stdout",
     "output_type": "stream",
     "text": [
      "('testdb', 'dbo', 'customer', 'Name', -9, 'nvarchar', 50, 100, None, None, 1, None, None, -9, None, 100, 1, 'YES', 39)\n",
      "('testdb', 'dbo', 'customer', 'Age', 4, 'int', 10, 4, 0, 10, 1, None, None, 4, None, None, 2, 'YES', 38)\n",
      "('testdb', 'dbo', 'customer', 'City', -9, 'nvarchar', 50, 100, None, None, 1, None, None, -9, None, 100, 3, 'YES', 39)\n",
      "('testdb', 'dbo', 'customer', 'Date', -9, 'date', 10, 20, None, None, 1, None, None, -9, None, None, 4, 'YES', 0)\n"
     ]
    }
   ],
   "source": [
    "meta = cursor.columns(table='customer')                                                                                                              \n",
    "\n",
    "for row in meta:\n",
    "    print(row)"
   ]
  },
  {
   "cell_type": "code",
   "execution_count": 14,
   "metadata": {},
   "outputs": [
    {
     "name": "stdout",
     "output_type": "stream",
     "text": [
      "Name nvarchar\n",
      "Age int\n",
      "City nvarchar\n",
      "Date date\n"
     ]
    }
   ],
   "source": [
    "meta = cursor.columns(table='customer')                                                                                                              \n",
    "\n",
    "for row in meta:\n",
    "    print(row.column_name, row.type_name)"
   ]
  },
  {
   "cell_type": "markdown",
   "metadata": {},
   "source": [
    "### Insert Records"
   ]
  },
  {
   "cell_type": "code",
   "execution_count": 15,
   "metadata": {},
   "outputs": [
    {
     "name": "stdout",
     "output_type": "stream",
     "text": [
      "3 records inserted\n"
     ]
    }
   ],
   "source": [
    "cursor.execute('''\n",
    "\n",
    "                INSERT INTO testdb.dbo.customer (Name, Age, City, Date)\n",
    "                VALUES\n",
    "                ('Sakura',20,'Tokyo', '2020-01-01'),\n",
    "                ('Neo',30,'London', '2020-04-15'),\n",
    "                ('Patrick',40,'', '2019-10-21')  \n",
    "\n",
    "                ''')\n",
    "print(cursor.rowcount, 'records inserted')\n",
    "\n",
    "cnxn.commit()"
   ]
  },
  {
   "cell_type": "code",
   "execution_count": 16,
   "metadata": {},
   "outputs": [
    {
     "name": "stdout",
     "output_type": "stream",
     "text": [
      "1 records inserted\n"
     ]
    }
   ],
   "source": [
    "cursor.execute(\"INSERT INTO customer (Name, Age, City, Date) values (?, ?, ?, ?)\",\n",
    "               'Tom', '50','California', '2020-02-03')\n",
    "print(cursor.rowcount, 'records inserted')\n",
    "\n",
    "cnxn.commit()"
   ]
  },
  {
   "cell_type": "markdown",
   "metadata": {},
   "source": [
    "###  Update Records"
   ]
  },
  {
   "cell_type": "code",
   "execution_count": 17,
   "metadata": {},
   "outputs": [
    {
     "name": "stdout",
     "output_type": "stream",
     "text": [
      "16 records updated\n"
     ]
    }
   ],
   "source": [
    "cursor.execute('''\n",
    "                UPDATE TestDB.dbo.customer\n",
    "                SET Age = 50, City = 'Bangkok'\n",
    "                WHERE Name = 'Patrick'\n",
    "                ''')\n",
    "print(cursor.rowcount, 'records updated')\n",
    "\n",
    "cnxn.commit()"
   ]
  },
  {
   "cell_type": "markdown",
   "metadata": {},
   "source": [
    "###  Delete  Records"
   ]
  },
  {
   "cell_type": "code",
   "execution_count": 18,
   "metadata": {},
   "outputs": [
    {
     "name": "stdout",
     "output_type": "stream",
     "text": [
      "1 records deleted\n"
     ]
    }
   ],
   "source": [
    "cursor.execute('''\n",
    "                DELETE FROM TestDB.dbo.customer\n",
    "                WHERE Name = 'Tom'\n",
    "                ''')\n",
    "print(cursor.rowcount, 'records deleted')\n",
    "\n",
    "cnxn.commit()"
   ]
  },
  {
   "cell_type": "markdown",
   "metadata": {},
   "source": [
    "###  Query Data"
   ]
  },
  {
   "cell_type": "code",
   "execution_count": 19,
   "metadata": {},
   "outputs": [
    {
     "name": "stdout",
     "output_type": "stream",
     "text": [
      "('Sakura', 20, 'Tokyo', '2020-01-01')\n",
      "('Neo', 30, 'London', '2020-04-15')\n",
      "('Patrick', 50, 'Bangkok', '2019-10-21')\n",
      "('Sakura', 20, 'Tokyo', '2020-01-01')\n",
      "('Sakura', 20, 'Tokyo', '2020-01-01')\n",
      "('Neo', 30, 'London', '2020-04-15')\n",
      "('Patrick', 50, 'Bangkok', '2019-10-21')\n",
      "('Neo', 30, 'London', '2020-04-15')\n",
      "('Patrick', 50, 'Bangkok', '2019-10-21')\n",
      "('Sakura', 20, 'Tokyo', '2020-01-01')\n",
      "('Neo', 30, 'London', '2020-04-15')\n",
      "('Patrick', 50, 'Bangkok', '2019-10-21')\n",
      "('Sakura', 20, 'Tokyo', '2020-01-01')\n",
      "('Sakura', 20, 'Tokyo', '2020-01-01')\n",
      "('Neo', 30, 'London', '2020-04-15')\n",
      "('Patrick', 50, 'Bangkok', '2019-10-21')\n",
      "('Neo', 30, 'London', '2020-04-15')\n",
      "('Patrick', 50, 'Bangkok', '2019-10-21')\n",
      "('Sakura', 20, 'Tokyo', '2020-01-01')\n",
      "('Neo', 30, 'London', '2020-04-15')\n",
      "('Patrick', 50, 'Bangkok', '2019-10-21')\n",
      "('Sakura', 20, 'Tokyo', '2020-01-01')\n",
      "('Sakura', 20, 'Tokyo', '2020-01-01')\n",
      "('Neo', 30, 'London', '2020-04-15')\n",
      "('Patrick', 50, 'Bangkok', '2019-10-21')\n",
      "('Neo', 30, 'London', '2020-04-15')\n",
      "('Patrick', 50, 'Bangkok', '2019-10-21')\n",
      "('Sakura', 20, 'Tokyo', '2020-01-01')\n",
      "('Neo', 30, 'London', '2020-04-15')\n",
      "('Patrick', 50, 'Bangkok', '2019-10-21')\n",
      "('Sakura', 20, 'Tokyo', '2020-01-01')\n",
      "('Sakura', 20, 'Tokyo', '2020-01-01')\n",
      "('Neo', 30, 'London', '2020-04-15')\n",
      "('Patrick', 50, 'Bangkok', '2019-10-21')\n",
      "('Neo', 30, 'London', '2020-04-15')\n",
      "('Patrick', 50, 'Bangkok', '2019-10-21')\n",
      "('Sakura', 20, 'Tokyo', '2020-01-01')\n",
      "('Neo', 30, 'London', '2020-04-15')\n",
      "('Patrick', 50, 'Bangkok', '2019-10-21')\n",
      "('Sakura', 20, 'Tokyo', '2020-01-01')\n",
      "('Sakura', 20, 'Tokyo', '2020-01-01')\n",
      "('Neo', 30, 'London', '2020-04-15')\n",
      "('Patrick', 50, 'Bangkok', '2019-10-21')\n",
      "('Neo', 30, 'London', '2020-04-15')\n",
      "('Patrick', 50, 'Bangkok', '2019-10-21')\n",
      "('Sakura', 20, 'Tokyo', '2020-01-01')\n",
      "('Neo', 30, 'London', '2020-04-15')\n",
      "('Patrick', 50, 'Bangkok', '2019-10-21')\n"
     ]
    }
   ],
   "source": [
    "#  SELECT ALL\n",
    "\n",
    "cursor.execute(\"SELECT * FROM customer\")\n",
    "rows = cursor.fetchall()\n",
    "\n",
    "for row in rows:\n",
    "    print(row, end='\\n')"
   ]
  },
  {
   "cell_type": "code",
   "execution_count": 20,
   "metadata": {},
   "outputs": [
    {
     "name": "stdout",
     "output_type": "stream",
     "text": [
      "('Patrick', 50, 'Bangkok', '2019-10-21')\n",
      "('Patrick', 50, 'Bangkok', '2019-10-21')\n",
      "('Patrick', 50, 'Bangkok', '2019-10-21')\n",
      "('Patrick', 50, 'Bangkok', '2019-10-21')\n",
      "('Patrick', 50, 'Bangkok', '2019-10-21')\n",
      "('Patrick', 50, 'Bangkok', '2019-10-21')\n",
      "('Patrick', 50, 'Bangkok', '2019-10-21')\n",
      "('Patrick', 50, 'Bangkok', '2019-10-21')\n",
      "('Patrick', 50, 'Bangkok', '2019-10-21')\n",
      "('Patrick', 50, 'Bangkok', '2019-10-21')\n",
      "('Patrick', 50, 'Bangkok', '2019-10-21')\n",
      "('Patrick', 50, 'Bangkok', '2019-10-21')\n",
      "('Patrick', 50, 'Bangkok', '2019-10-21')\n",
      "('Patrick', 50, 'Bangkok', '2019-10-21')\n",
      "('Patrick', 50, 'Bangkok', '2019-10-21')\n",
      "('Patrick', 50, 'Bangkok', '2019-10-21')\n"
     ]
    }
   ],
   "source": [
    "#  WHERE text\n",
    "\n",
    "cursor.execute(\"SELECT * FROM customer WHERE Name='Patrick'\")\n",
    "rows = cursor.fetchall()\n",
    "\n",
    "for row in rows:\n",
    "    print(row, end='\\n')"
   ]
  },
  {
   "cell_type": "code",
   "execution_count": 21,
   "metadata": {},
   "outputs": [
    {
     "name": "stdout",
     "output_type": "stream",
     "text": [
      "('Patrick', 50, 'Bangkok', '2019-10-21')\n",
      "('Patrick', 50, 'Bangkok', '2019-10-21')\n",
      "('Patrick', 50, 'Bangkok', '2019-10-21')\n",
      "('Patrick', 50, 'Bangkok', '2019-10-21')\n",
      "('Patrick', 50, 'Bangkok', '2019-10-21')\n",
      "('Patrick', 50, 'Bangkok', '2019-10-21')\n",
      "('Patrick', 50, 'Bangkok', '2019-10-21')\n",
      "('Patrick', 50, 'Bangkok', '2019-10-21')\n",
      "('Patrick', 50, 'Bangkok', '2019-10-21')\n",
      "('Patrick', 50, 'Bangkok', '2019-10-21')\n",
      "('Patrick', 50, 'Bangkok', '2019-10-21')\n",
      "('Patrick', 50, 'Bangkok', '2019-10-21')\n",
      "('Patrick', 50, 'Bangkok', '2019-10-21')\n",
      "('Patrick', 50, 'Bangkok', '2019-10-21')\n",
      "('Patrick', 50, 'Bangkok', '2019-10-21')\n",
      "('Patrick', 50, 'Bangkok', '2019-10-21')\n"
     ]
    }
   ],
   "source": [
    "#  WHERE int\n",
    "\n",
    "cursor.execute(\"SELECT * FROM customer WHERE Age > 30\")\n",
    "rows = cursor.fetchall()\n",
    "\n",
    "for row in rows:\n",
    "    print(row, end='\\n')"
   ]
  },
  {
   "cell_type": "code",
   "execution_count": 22,
   "metadata": {},
   "outputs": [
    {
     "name": "stdout",
     "output_type": "stream",
     "text": [
      "('Sakura', 20, 'Tokyo', '2020-01-01')\n",
      "('Neo', 30, 'London', '2020-04-15')\n",
      "('Sakura', 20, 'Tokyo', '2020-01-01')\n",
      "('Sakura', 20, 'Tokyo', '2020-01-01')\n",
      "('Neo', 30, 'London', '2020-04-15')\n",
      "('Neo', 30, 'London', '2020-04-15')\n",
      "('Sakura', 20, 'Tokyo', '2020-01-01')\n",
      "('Neo', 30, 'London', '2020-04-15')\n",
      "('Sakura', 20, 'Tokyo', '2020-01-01')\n",
      "('Sakura', 20, 'Tokyo', '2020-01-01')\n",
      "('Neo', 30, 'London', '2020-04-15')\n",
      "('Neo', 30, 'London', '2020-04-15')\n",
      "('Sakura', 20, 'Tokyo', '2020-01-01')\n",
      "('Neo', 30, 'London', '2020-04-15')\n",
      "('Sakura', 20, 'Tokyo', '2020-01-01')\n",
      "('Sakura', 20, 'Tokyo', '2020-01-01')\n",
      "('Neo', 30, 'London', '2020-04-15')\n",
      "('Neo', 30, 'London', '2020-04-15')\n",
      "('Sakura', 20, 'Tokyo', '2020-01-01')\n",
      "('Neo', 30, 'London', '2020-04-15')\n",
      "('Sakura', 20, 'Tokyo', '2020-01-01')\n",
      "('Sakura', 20, 'Tokyo', '2020-01-01')\n",
      "('Neo', 30, 'London', '2020-04-15')\n",
      "('Neo', 30, 'London', '2020-04-15')\n",
      "('Sakura', 20, 'Tokyo', '2020-01-01')\n",
      "('Neo', 30, 'London', '2020-04-15')\n",
      "('Sakura', 20, 'Tokyo', '2020-01-01')\n",
      "('Sakura', 20, 'Tokyo', '2020-01-01')\n",
      "('Neo', 30, 'London', '2020-04-15')\n",
      "('Neo', 30, 'London', '2020-04-15')\n",
      "('Sakura', 20, 'Tokyo', '2020-01-01')\n",
      "('Neo', 30, 'London', '2020-04-15')\n"
     ]
    }
   ],
   "source": [
    "#  WHERE date\n",
    "\n",
    "cursor.execute(\"SELECT * FROM customer WHERE Date > '2019-12-31'\")\n",
    "rows = cursor.fetchall()\n",
    "\n",
    "for row in rows:\n",
    "    print(row, end='\\n')"
   ]
  },
  {
   "cell_type": "markdown",
   "metadata": {},
   "source": [
    "###  Create dataframe"
   ]
  },
  {
   "cell_type": "code",
   "execution_count": 23,
   "metadata": {},
   "outputs": [
    {
     "data": {
      "text/html": [
       "<div>\n",
       "<style scoped>\n",
       "    .dataframe tbody tr th:only-of-type {\n",
       "        vertical-align: middle;\n",
       "    }\n",
       "\n",
       "    .dataframe tbody tr th {\n",
       "        vertical-align: top;\n",
       "    }\n",
       "\n",
       "    .dataframe thead th {\n",
       "        text-align: right;\n",
       "    }\n",
       "</style>\n",
       "<table border=\"1\" class=\"dataframe\">\n",
       "  <thead>\n",
       "    <tr style=\"text-align: right;\">\n",
       "      <th></th>\n",
       "      <th>Name</th>\n",
       "      <th>Age</th>\n",
       "      <th>City</th>\n",
       "      <th>Date</th>\n",
       "    </tr>\n",
       "  </thead>\n",
       "  <tbody>\n",
       "    <tr>\n",
       "      <th>0</th>\n",
       "      <td>Sakura</td>\n",
       "      <td>20</td>\n",
       "      <td>Tokyo</td>\n",
       "      <td>2020-01-01</td>\n",
       "    </tr>\n",
       "    <tr>\n",
       "      <th>1</th>\n",
       "      <td>Neo</td>\n",
       "      <td>30</td>\n",
       "      <td>London</td>\n",
       "      <td>2020-04-15</td>\n",
       "    </tr>\n",
       "    <tr>\n",
       "      <th>2</th>\n",
       "      <td>Patrick</td>\n",
       "      <td>50</td>\n",
       "      <td>Bangkok</td>\n",
       "      <td>2019-10-21</td>\n",
       "    </tr>\n",
       "    <tr>\n",
       "      <th>3</th>\n",
       "      <td>Sakura</td>\n",
       "      <td>20</td>\n",
       "      <td>Tokyo</td>\n",
       "      <td>2020-01-01</td>\n",
       "    </tr>\n",
       "    <tr>\n",
       "      <th>4</th>\n",
       "      <td>Sakura</td>\n",
       "      <td>20</td>\n",
       "      <td>Tokyo</td>\n",
       "      <td>2020-01-01</td>\n",
       "    </tr>\n",
       "    <tr>\n",
       "      <th>5</th>\n",
       "      <td>Neo</td>\n",
       "      <td>30</td>\n",
       "      <td>London</td>\n",
       "      <td>2020-04-15</td>\n",
       "    </tr>\n",
       "    <tr>\n",
       "      <th>6</th>\n",
       "      <td>Patrick</td>\n",
       "      <td>50</td>\n",
       "      <td>Bangkok</td>\n",
       "      <td>2019-10-21</td>\n",
       "    </tr>\n",
       "    <tr>\n",
       "      <th>7</th>\n",
       "      <td>Neo</td>\n",
       "      <td>30</td>\n",
       "      <td>London</td>\n",
       "      <td>2020-04-15</td>\n",
       "    </tr>\n",
       "    <tr>\n",
       "      <th>8</th>\n",
       "      <td>Patrick</td>\n",
       "      <td>50</td>\n",
       "      <td>Bangkok</td>\n",
       "      <td>2019-10-21</td>\n",
       "    </tr>\n",
       "    <tr>\n",
       "      <th>9</th>\n",
       "      <td>Sakura</td>\n",
       "      <td>20</td>\n",
       "      <td>Tokyo</td>\n",
       "      <td>2020-01-01</td>\n",
       "    </tr>\n",
       "    <tr>\n",
       "      <th>10</th>\n",
       "      <td>Neo</td>\n",
       "      <td>30</td>\n",
       "      <td>London</td>\n",
       "      <td>2020-04-15</td>\n",
       "    </tr>\n",
       "    <tr>\n",
       "      <th>11</th>\n",
       "      <td>Patrick</td>\n",
       "      <td>50</td>\n",
       "      <td>Bangkok</td>\n",
       "      <td>2019-10-21</td>\n",
       "    </tr>\n",
       "    <tr>\n",
       "      <th>12</th>\n",
       "      <td>Sakura</td>\n",
       "      <td>20</td>\n",
       "      <td>Tokyo</td>\n",
       "      <td>2020-01-01</td>\n",
       "    </tr>\n",
       "    <tr>\n",
       "      <th>13</th>\n",
       "      <td>Sakura</td>\n",
       "      <td>20</td>\n",
       "      <td>Tokyo</td>\n",
       "      <td>2020-01-01</td>\n",
       "    </tr>\n",
       "    <tr>\n",
       "      <th>14</th>\n",
       "      <td>Neo</td>\n",
       "      <td>30</td>\n",
       "      <td>London</td>\n",
       "      <td>2020-04-15</td>\n",
       "    </tr>\n",
       "    <tr>\n",
       "      <th>15</th>\n",
       "      <td>Patrick</td>\n",
       "      <td>50</td>\n",
       "      <td>Bangkok</td>\n",
       "      <td>2019-10-21</td>\n",
       "    </tr>\n",
       "    <tr>\n",
       "      <th>16</th>\n",
       "      <td>Neo</td>\n",
       "      <td>30</td>\n",
       "      <td>London</td>\n",
       "      <td>2020-04-15</td>\n",
       "    </tr>\n",
       "    <tr>\n",
       "      <th>17</th>\n",
       "      <td>Patrick</td>\n",
       "      <td>50</td>\n",
       "      <td>Bangkok</td>\n",
       "      <td>2019-10-21</td>\n",
       "    </tr>\n",
       "    <tr>\n",
       "      <th>18</th>\n",
       "      <td>Sakura</td>\n",
       "      <td>20</td>\n",
       "      <td>Tokyo</td>\n",
       "      <td>2020-01-01</td>\n",
       "    </tr>\n",
       "    <tr>\n",
       "      <th>19</th>\n",
       "      <td>Neo</td>\n",
       "      <td>30</td>\n",
       "      <td>London</td>\n",
       "      <td>2020-04-15</td>\n",
       "    </tr>\n",
       "    <tr>\n",
       "      <th>20</th>\n",
       "      <td>Patrick</td>\n",
       "      <td>50</td>\n",
       "      <td>Bangkok</td>\n",
       "      <td>2019-10-21</td>\n",
       "    </tr>\n",
       "    <tr>\n",
       "      <th>21</th>\n",
       "      <td>Sakura</td>\n",
       "      <td>20</td>\n",
       "      <td>Tokyo</td>\n",
       "      <td>2020-01-01</td>\n",
       "    </tr>\n",
       "    <tr>\n",
       "      <th>22</th>\n",
       "      <td>Sakura</td>\n",
       "      <td>20</td>\n",
       "      <td>Tokyo</td>\n",
       "      <td>2020-01-01</td>\n",
       "    </tr>\n",
       "    <tr>\n",
       "      <th>23</th>\n",
       "      <td>Neo</td>\n",
       "      <td>30</td>\n",
       "      <td>London</td>\n",
       "      <td>2020-04-15</td>\n",
       "    </tr>\n",
       "    <tr>\n",
       "      <th>24</th>\n",
       "      <td>Patrick</td>\n",
       "      <td>50</td>\n",
       "      <td>Bangkok</td>\n",
       "      <td>2019-10-21</td>\n",
       "    </tr>\n",
       "    <tr>\n",
       "      <th>25</th>\n",
       "      <td>Neo</td>\n",
       "      <td>30</td>\n",
       "      <td>London</td>\n",
       "      <td>2020-04-15</td>\n",
       "    </tr>\n",
       "    <tr>\n",
       "      <th>26</th>\n",
       "      <td>Patrick</td>\n",
       "      <td>50</td>\n",
       "      <td>Bangkok</td>\n",
       "      <td>2019-10-21</td>\n",
       "    </tr>\n",
       "    <tr>\n",
       "      <th>27</th>\n",
       "      <td>Sakura</td>\n",
       "      <td>20</td>\n",
       "      <td>Tokyo</td>\n",
       "      <td>2020-01-01</td>\n",
       "    </tr>\n",
       "    <tr>\n",
       "      <th>28</th>\n",
       "      <td>Neo</td>\n",
       "      <td>30</td>\n",
       "      <td>London</td>\n",
       "      <td>2020-04-15</td>\n",
       "    </tr>\n",
       "    <tr>\n",
       "      <th>29</th>\n",
       "      <td>Patrick</td>\n",
       "      <td>50</td>\n",
       "      <td>Bangkok</td>\n",
       "      <td>2019-10-21</td>\n",
       "    </tr>\n",
       "    <tr>\n",
       "      <th>30</th>\n",
       "      <td>Sakura</td>\n",
       "      <td>20</td>\n",
       "      <td>Tokyo</td>\n",
       "      <td>2020-01-01</td>\n",
       "    </tr>\n",
       "    <tr>\n",
       "      <th>31</th>\n",
       "      <td>Sakura</td>\n",
       "      <td>20</td>\n",
       "      <td>Tokyo</td>\n",
       "      <td>2020-01-01</td>\n",
       "    </tr>\n",
       "    <tr>\n",
       "      <th>32</th>\n",
       "      <td>Neo</td>\n",
       "      <td>30</td>\n",
       "      <td>London</td>\n",
       "      <td>2020-04-15</td>\n",
       "    </tr>\n",
       "    <tr>\n",
       "      <th>33</th>\n",
       "      <td>Patrick</td>\n",
       "      <td>50</td>\n",
       "      <td>Bangkok</td>\n",
       "      <td>2019-10-21</td>\n",
       "    </tr>\n",
       "    <tr>\n",
       "      <th>34</th>\n",
       "      <td>Neo</td>\n",
       "      <td>30</td>\n",
       "      <td>London</td>\n",
       "      <td>2020-04-15</td>\n",
       "    </tr>\n",
       "    <tr>\n",
       "      <th>35</th>\n",
       "      <td>Patrick</td>\n",
       "      <td>50</td>\n",
       "      <td>Bangkok</td>\n",
       "      <td>2019-10-21</td>\n",
       "    </tr>\n",
       "    <tr>\n",
       "      <th>36</th>\n",
       "      <td>Sakura</td>\n",
       "      <td>20</td>\n",
       "      <td>Tokyo</td>\n",
       "      <td>2020-01-01</td>\n",
       "    </tr>\n",
       "    <tr>\n",
       "      <th>37</th>\n",
       "      <td>Neo</td>\n",
       "      <td>30</td>\n",
       "      <td>London</td>\n",
       "      <td>2020-04-15</td>\n",
       "    </tr>\n",
       "    <tr>\n",
       "      <th>38</th>\n",
       "      <td>Patrick</td>\n",
       "      <td>50</td>\n",
       "      <td>Bangkok</td>\n",
       "      <td>2019-10-21</td>\n",
       "    </tr>\n",
       "    <tr>\n",
       "      <th>39</th>\n",
       "      <td>Sakura</td>\n",
       "      <td>20</td>\n",
       "      <td>Tokyo</td>\n",
       "      <td>2020-01-01</td>\n",
       "    </tr>\n",
       "    <tr>\n",
       "      <th>40</th>\n",
       "      <td>Sakura</td>\n",
       "      <td>20</td>\n",
       "      <td>Tokyo</td>\n",
       "      <td>2020-01-01</td>\n",
       "    </tr>\n",
       "    <tr>\n",
       "      <th>41</th>\n",
       "      <td>Neo</td>\n",
       "      <td>30</td>\n",
       "      <td>London</td>\n",
       "      <td>2020-04-15</td>\n",
       "    </tr>\n",
       "    <tr>\n",
       "      <th>42</th>\n",
       "      <td>Patrick</td>\n",
       "      <td>50</td>\n",
       "      <td>Bangkok</td>\n",
       "      <td>2019-10-21</td>\n",
       "    </tr>\n",
       "    <tr>\n",
       "      <th>43</th>\n",
       "      <td>Neo</td>\n",
       "      <td>30</td>\n",
       "      <td>London</td>\n",
       "      <td>2020-04-15</td>\n",
       "    </tr>\n",
       "    <tr>\n",
       "      <th>44</th>\n",
       "      <td>Patrick</td>\n",
       "      <td>50</td>\n",
       "      <td>Bangkok</td>\n",
       "      <td>2019-10-21</td>\n",
       "    </tr>\n",
       "    <tr>\n",
       "      <th>45</th>\n",
       "      <td>Sakura</td>\n",
       "      <td>20</td>\n",
       "      <td>Tokyo</td>\n",
       "      <td>2020-01-01</td>\n",
       "    </tr>\n",
       "    <tr>\n",
       "      <th>46</th>\n",
       "      <td>Neo</td>\n",
       "      <td>30</td>\n",
       "      <td>London</td>\n",
       "      <td>2020-04-15</td>\n",
       "    </tr>\n",
       "    <tr>\n",
       "      <th>47</th>\n",
       "      <td>Patrick</td>\n",
       "      <td>50</td>\n",
       "      <td>Bangkok</td>\n",
       "      <td>2019-10-21</td>\n",
       "    </tr>\n",
       "  </tbody>\n",
       "</table>\n",
       "</div>"
      ],
      "text/plain": [
       "       Name  Age     City        Date\n",
       "0    Sakura   20    Tokyo  2020-01-01\n",
       "1       Neo   30   London  2020-04-15\n",
       "2   Patrick   50  Bangkok  2019-10-21\n",
       "3    Sakura   20    Tokyo  2020-01-01\n",
       "4    Sakura   20    Tokyo  2020-01-01\n",
       "5       Neo   30   London  2020-04-15\n",
       "6   Patrick   50  Bangkok  2019-10-21\n",
       "7       Neo   30   London  2020-04-15\n",
       "8   Patrick   50  Bangkok  2019-10-21\n",
       "9    Sakura   20    Tokyo  2020-01-01\n",
       "10      Neo   30   London  2020-04-15\n",
       "11  Patrick   50  Bangkok  2019-10-21\n",
       "12   Sakura   20    Tokyo  2020-01-01\n",
       "13   Sakura   20    Tokyo  2020-01-01\n",
       "14      Neo   30   London  2020-04-15\n",
       "15  Patrick   50  Bangkok  2019-10-21\n",
       "16      Neo   30   London  2020-04-15\n",
       "17  Patrick   50  Bangkok  2019-10-21\n",
       "18   Sakura   20    Tokyo  2020-01-01\n",
       "19      Neo   30   London  2020-04-15\n",
       "20  Patrick   50  Bangkok  2019-10-21\n",
       "21   Sakura   20    Tokyo  2020-01-01\n",
       "22   Sakura   20    Tokyo  2020-01-01\n",
       "23      Neo   30   London  2020-04-15\n",
       "24  Patrick   50  Bangkok  2019-10-21\n",
       "25      Neo   30   London  2020-04-15\n",
       "26  Patrick   50  Bangkok  2019-10-21\n",
       "27   Sakura   20    Tokyo  2020-01-01\n",
       "28      Neo   30   London  2020-04-15\n",
       "29  Patrick   50  Bangkok  2019-10-21\n",
       "30   Sakura   20    Tokyo  2020-01-01\n",
       "31   Sakura   20    Tokyo  2020-01-01\n",
       "32      Neo   30   London  2020-04-15\n",
       "33  Patrick   50  Bangkok  2019-10-21\n",
       "34      Neo   30   London  2020-04-15\n",
       "35  Patrick   50  Bangkok  2019-10-21\n",
       "36   Sakura   20    Tokyo  2020-01-01\n",
       "37      Neo   30   London  2020-04-15\n",
       "38  Patrick   50  Bangkok  2019-10-21\n",
       "39   Sakura   20    Tokyo  2020-01-01\n",
       "40   Sakura   20    Tokyo  2020-01-01\n",
       "41      Neo   30   London  2020-04-15\n",
       "42  Patrick   50  Bangkok  2019-10-21\n",
       "43      Neo   30   London  2020-04-15\n",
       "44  Patrick   50  Bangkok  2019-10-21\n",
       "45   Sakura   20    Tokyo  2020-01-01\n",
       "46      Neo   30   London  2020-04-15\n",
       "47  Patrick   50  Bangkok  2019-10-21"
      ]
     },
     "execution_count": 23,
     "metadata": {},
     "output_type": "execute_result"
    }
   ],
   "source": [
    "import pandas as pd\n",
    "\n",
    "query = \"SELECT * FROM testdb.dbo.customer\"\n",
    "\n",
    "df = pd.read_sql(query, cnxn)\n",
    "df"
   ]
  },
  {
   "cell_type": "markdown",
   "metadata": {},
   "source": [
    "###  Insert dataframe to SQL Server"
   ]
  },
  {
   "cell_type": "code",
   "execution_count": 24,
   "metadata": {},
   "outputs": [
    {
     "name": "stdout",
     "output_type": "stream",
     "text": [
      "48 records inserted\n"
     ]
    }
   ],
   "source": [
    "# Insert Dataframe into SQL Server:\n",
    "\n",
    "totalrow = 0\n",
    "for index, row in df.iterrows():\n",
    "    cursor.execute(\"INSERT INTO dbo.customer (Name,Age,City,Date) values(?,?,?,?)\", \n",
    "                   row.Name, row.Age, row.City, row.Date)\n",
    "    totalrow +=cursor.rowcount\n",
    "\n",
    "print(totalrow, 'records inserted')\n",
    "\n",
    "cnxn.commit()"
   ]
  },
  {
   "cell_type": "markdown",
   "metadata": {},
   "source": [
    "## Functions"
   ]
  },
  {
   "cell_type": "code",
   "execution_count": 30,
   "metadata": {},
   "outputs": [
    {
     "name": "stdout",
     "output_type": "stream",
     "text": [
      "('Sakura', 20, 'Tokyo', datetime.date(2020, 1, 1))\n",
      "('Neo', 30, 'London', datetime.date(2020, 4, 15))\n",
      "('Patrick', 50, 'Bangkok', datetime.date(2019, 10, 21))\n",
      "('Sakura', 20, 'Tokyo', datetime.date(2020, 1, 1))\n",
      "('Sakura', 20, 'Tokyo', datetime.date(2020, 1, 1))\n",
      "('Neo', 30, 'London', datetime.date(2020, 4, 15))\n",
      "('Patrick', 50, 'Bangkok', datetime.date(2019, 10, 21))\n",
      "('Neo', 30, 'London', datetime.date(2020, 4, 15))\n",
      "('Patrick', 50, 'Bangkok', datetime.date(2019, 10, 21))\n",
      "('Sakura', 20, 'Tokyo', datetime.date(2020, 1, 1))\n",
      "('Neo', 30, 'London', datetime.date(2020, 4, 15))\n",
      "('Patrick', 50, 'Bangkok', datetime.date(2019, 10, 21))\n",
      "('Sakura', 20, 'Tokyo', datetime.date(2020, 1, 1))\n",
      "('Sakura', 20, 'Tokyo', datetime.date(2020, 1, 1))\n",
      "('Neo', 30, 'London', datetime.date(2020, 4, 15))\n",
      "('Patrick', 50, 'Bangkok', datetime.date(2019, 10, 21))\n",
      "('Neo', 30, 'London', datetime.date(2020, 4, 15))\n",
      "('Patrick', 50, 'Bangkok', datetime.date(2019, 10, 21))\n",
      "('Sakura', 20, 'Tokyo', datetime.date(2020, 1, 1))\n",
      "('Neo', 30, 'London', datetime.date(2020, 4, 15))\n",
      "('Patrick', 50, 'Bangkok', datetime.date(2019, 10, 21))\n",
      "('Sakura', 20, 'Tokyo', datetime.date(2020, 1, 1))\n",
      "('Sakura', 20, 'Tokyo', datetime.date(2020, 1, 1))\n",
      "('Neo', 30, 'London', datetime.date(2020, 4, 15))\n",
      "('Patrick', 50, 'Bangkok', datetime.date(2019, 10, 21))\n",
      "('Neo', 30, 'London', datetime.date(2020, 4, 15))\n",
      "('Patrick', 50, 'Bangkok', datetime.date(2019, 10, 21))\n",
      "('Sakura', 20, 'Tokyo', datetime.date(2020, 1, 1))\n",
      "('Neo', 30, 'London', datetime.date(2020, 4, 15))\n",
      "('Patrick', 50, 'Bangkok', datetime.date(2019, 10, 21))\n",
      "('Sakura', 20, 'Tokyo', datetime.date(2020, 1, 1))\n",
      "('Sakura', 20, 'Tokyo', datetime.date(2020, 1, 1))\n",
      "('Neo', 30, 'London', datetime.date(2020, 4, 15))\n",
      "('Patrick', 50, 'Bangkok', datetime.date(2019, 10, 21))\n",
      "('Neo', 30, 'London', datetime.date(2020, 4, 15))\n",
      "('Patrick', 50, 'Bangkok', datetime.date(2019, 10, 21))\n",
      "('Sakura', 20, 'Tokyo', datetime.date(2020, 1, 1))\n",
      "('Neo', 30, 'London', datetime.date(2020, 4, 15))\n",
      "('Patrick', 50, 'Bangkok', datetime.date(2019, 10, 21))\n",
      "('Sakura', 20, 'Tokyo', datetime.date(2020, 1, 1))\n",
      "('Sakura', 20, 'Tokyo', datetime.date(2020, 1, 1))\n",
      "('Neo', 30, 'London', datetime.date(2020, 4, 15))\n",
      "('Patrick', 50, 'Bangkok', datetime.date(2019, 10, 21))\n",
      "('Neo', 30, 'London', datetime.date(2020, 4, 15))\n",
      "('Patrick', 50, 'Bangkok', datetime.date(2019, 10, 21))\n",
      "('Sakura', 20, 'Tokyo', datetime.date(2020, 1, 1))\n",
      "('Neo', 30, 'London', datetime.date(2020, 4, 15))\n",
      "('Patrick', 50, 'Bangkok', datetime.date(2019, 10, 21))\n",
      "('Sakura', 20, 'Tokyo', datetime.date(2020, 1, 1))\n",
      "('Neo', 30, 'London', datetime.date(2020, 4, 15))\n",
      "('Patrick', 50, 'Bangkok', datetime.date(2019, 10, 21))\n",
      "('Sakura', 20, 'Tokyo', datetime.date(2020, 1, 1))\n",
      "('Sakura', 20, 'Tokyo', datetime.date(2020, 1, 1))\n",
      "('Neo', 30, 'London', datetime.date(2020, 4, 15))\n",
      "('Patrick', 50, 'Bangkok', datetime.date(2019, 10, 21))\n",
      "('Neo', 30, 'London', datetime.date(2020, 4, 15))\n",
      "('Patrick', 50, 'Bangkok', datetime.date(2019, 10, 21))\n",
      "('Sakura', 20, 'Tokyo', datetime.date(2020, 1, 1))\n",
      "('Neo', 30, 'London', datetime.date(2020, 4, 15))\n",
      "('Patrick', 50, 'Bangkok', datetime.date(2019, 10, 21))\n",
      "('Sakura', 20, 'Tokyo', datetime.date(2020, 1, 1))\n",
      "('Sakura', 20, 'Tokyo', datetime.date(2020, 1, 1))\n",
      "('Neo', 30, 'London', datetime.date(2020, 4, 15))\n",
      "('Patrick', 50, 'Bangkok', datetime.date(2019, 10, 21))\n",
      "('Neo', 30, 'London', datetime.date(2020, 4, 15))\n",
      "('Patrick', 50, 'Bangkok', datetime.date(2019, 10, 21))\n",
      "('Sakura', 20, 'Tokyo', datetime.date(2020, 1, 1))\n",
      "('Neo', 30, 'London', datetime.date(2020, 4, 15))\n",
      "('Patrick', 50, 'Bangkok', datetime.date(2019, 10, 21))\n",
      "('Sakura', 20, 'Tokyo', datetime.date(2020, 1, 1))\n",
      "('Sakura', 20, 'Tokyo', datetime.date(2020, 1, 1))\n",
      "('Neo', 30, 'London', datetime.date(2020, 4, 15))\n",
      "('Patrick', 50, 'Bangkok', datetime.date(2019, 10, 21))\n",
      "('Neo', 30, 'London', datetime.date(2020, 4, 15))\n",
      "('Patrick', 50, 'Bangkok', datetime.date(2019, 10, 21))\n",
      "('Sakura', 20, 'Tokyo', datetime.date(2020, 1, 1))\n",
      "('Neo', 30, 'London', datetime.date(2020, 4, 15))\n",
      "('Patrick', 50, 'Bangkok', datetime.date(2019, 10, 21))\n",
      "('Sakura', 20, 'Tokyo', datetime.date(2020, 1, 1))\n",
      "('Sakura', 20, 'Tokyo', datetime.date(2020, 1, 1))\n",
      "('Neo', 30, 'London', datetime.date(2020, 4, 15))\n",
      "('Patrick', 50, 'Bangkok', datetime.date(2019, 10, 21))\n",
      "('Neo', 30, 'London', datetime.date(2020, 4, 15))\n",
      "('Patrick', 50, 'Bangkok', datetime.date(2019, 10, 21))\n",
      "('Sakura', 20, 'Tokyo', datetime.date(2020, 1, 1))\n",
      "('Neo', 30, 'London', datetime.date(2020, 4, 15))\n",
      "('Patrick', 50, 'Bangkok', datetime.date(2019, 10, 21))\n",
      "('Sakura', 20, 'Tokyo', datetime.date(2020, 1, 1))\n",
      "('Sakura', 20, 'Tokyo', datetime.date(2020, 1, 1))\n",
      "('Neo', 30, 'London', datetime.date(2020, 4, 15))\n",
      "('Patrick', 50, 'Bangkok', datetime.date(2019, 10, 21))\n",
      "('Neo', 30, 'London', datetime.date(2020, 4, 15))\n",
      "('Patrick', 50, 'Bangkok', datetime.date(2019, 10, 21))\n",
      "('Sakura', 20, 'Tokyo', datetime.date(2020, 1, 1))\n",
      "('Neo', 30, 'London', datetime.date(2020, 4, 15))\n",
      "('Patrick', 50, 'Bangkok', datetime.date(2019, 10, 21))\n"
     ]
    }
   ],
   "source": [
    "import pyodbc\n",
    "\n",
    "\n",
    "def dblogin():\n",
    "    server = 'DESKTOP-1GHH8VU\\JSQL' \n",
    "    database = 'testdb' \n",
    "    username = 'sa' \n",
    "    password = 'mssqlP@ssw0rd' \n",
    "\n",
    "    cnxn = pyodbc.connect('DRIVER={ODBC Driver 17 for SQL Server};'\n",
    "                      'SERVER='+server+';'\n",
    "                      'DATABASE='+database+';'\n",
    "                      'UID='+username+';PWD='+ password)\n",
    "    return cnxn.cursor()\n",
    "\n",
    "\n",
    "def select_execute(con, slq):\n",
    "        cursor.execute(slq)\n",
    "        rows = cursor.fetchall()\n",
    "        return rows\n",
    "\n",
    "\n",
    "if __name__ == '__main__':\n",
    "    cursor = dblogin()\n",
    "    sql =  '''SELECT *\n",
    "                FROM customer'''\n",
    "    rows = select_execute(cursor, sql)\n",
    "    for row in rows:\n",
    "        print(row, end='\\n')"
   ]
  },
  {
   "cell_type": "markdown",
   "metadata": {},
   "source": [
    "###  Close connection and remove the cursor"
   ]
  },
  {
   "cell_type": "code",
   "execution_count": 28,
   "metadata": {},
   "outputs": [],
   "source": [
    "cursor.close()\n",
    "cnxn.close()"
   ]
  },
  {
   "cell_type": "code",
   "execution_count": null,
   "metadata": {},
   "outputs": [],
   "source": []
  }
 ],
 "metadata": {
  "kernelspec": {
   "display_name": "Python 3",
   "language": "python",
   "name": "python3"
  },
  "language_info": {
   "codemirror_mode": {
    "name": "ipython",
    "version": 3
   },
   "file_extension": ".py",
   "mimetype": "text/x-python",
   "name": "python",
   "nbconvert_exporter": "python",
   "pygments_lexer": "ipython3",
   "version": "3.6.12"
  }
 },
 "nbformat": 4,
 "nbformat_minor": 4
}
